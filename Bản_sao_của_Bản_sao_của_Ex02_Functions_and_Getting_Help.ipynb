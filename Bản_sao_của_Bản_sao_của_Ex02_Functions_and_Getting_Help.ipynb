{
  "nbformat": 4,
  "nbformat_minor": 0,
  "metadata": {
    "kernelspec": {
      "display_name": "Python 3",
      "language": "python",
      "name": "python3"
    },
    "language_info": {
      "codemirror_mode": {
        "name": "ipython",
        "version": 3
      },
      "file_extension": ".py",
      "mimetype": "text/x-python",
      "name": "python",
      "nbconvert_exporter": "python",
      "pygments_lexer": "ipython3",
      "version": "3.6.5"
    },
    "learntools_metadata": {
      "lesson_index": 1,
      "type": "exercise"
    },
    "colab": {
      "name": "Bản sao của Bản sao của Ex02 - Functions and Getting Help.ipynb",
      "provenance": [],
      "include_colab_link": true
    }
  },
  "cells": [
    {
      "cell_type": "markdown",
      "metadata": {
        "id": "view-in-github",
        "colab_type": "text"
      },
      "source": [
        "<a href=\"https://colab.research.google.com/github/lienanh264/datacracy-atom--lien-anh-/blob/main/B%E1%BA%A3n_sao_c%E1%BB%A7a_B%E1%BA%A3n_sao_c%E1%BB%A7a_Ex02_Functions_and_Getting_Help.ipynb\" target=\"_parent\"><img src=\"https://colab.research.google.com/assets/colab-badge.svg\" alt=\"Open In Colab\"/></a>"
      ]
    },
    {
      "cell_type": "markdown",
      "metadata": {
        "_uuid": "b614ba0f78fa3cb457efd3a72d7c5c6d66ced8c4",
        "id": "PG8pTc6zsZ8K"
      },
      "source": [
        "# Exercise 02 - Functions and Getting Help !"
      ]
    },
    {
      "cell_type": "markdown",
      "metadata": {
        "_uuid": "463c02da36c6f974212f336d68fa9fdec63b29f2",
        "id": "NpVDg-lgsZ8Q"
      },
      "source": [
        "## 1. Complete Your Very First Function \n",
        "\n",
        "Complete the body of the following function according to its docstring.\n",
        "\n",
        "*HINT*: Python has a builtin function `round`"
      ]
    },
    {
      "cell_type": "code",
      "metadata": {
        "_uuid": "eb7401ab1739f5310e7b400a67c55e9025866d5d",
        "id": "3_f__ZnFsZ8S",
        "colab": {
          "base_uri": "https://localhost:8080/"
        },
        "outputId": "b06815d6-f530-46d3-d272-53611b869340"
      },
      "source": [
        "def round_to_two_places(num):\n",
        "    \"\"\"Return the given number rounded to two decimal places. \n",
        "    \n",
        "    >>> round_to_two_places(3.14159)\n",
        "    3.14\n",
        "    \"\"\"\n",
        "    # Replace this body with your own code.\n",
        "    # (\"pass\" is a keyword that does literally nothing. We used it as a placeholder,\n",
        "    # so that it will not raise any errors,\n",
        "    # because after we begin a code block, Python requires at least one line of code)\n",
        "    return round(num,2)\n",
        "    pass\n",
        "\n",
        "round_to_two_places(4.35789420)"
      ],
      "execution_count": null,
      "outputs": [
        {
          "output_type": "execute_result",
          "data": {
            "text/plain": [
              "4.36"
            ]
          },
          "metadata": {
            "tags": []
          },
          "execution_count": 2
        }
      ]
    },
    {
      "cell_type": "markdown",
      "metadata": {
        "_uuid": "2c6c12ce2992453c0e7c06d813e3bdf1dbfdad73",
        "id": "ThT0-a7NsZ8V"
      },
      "source": [
        "## 2. Explore the Built-in Function\n",
        "The help for `round` says that `ndigits` (the second argument) may be negative.\n",
        "What do you think will happen when it is? Try some examples in the following cell?\n",
        "\n",
        "Can you think of a case where this would be useful?"
      ]
    },
    {
      "cell_type": "code",
      "metadata": {
        "_uuid": "310ae90a6f40836427b7563e595dbb1156283ceb",
        "id": "WH4ngzq8sZ8W",
        "colab": {
          "base_uri": "https://localhost:8080/"
        },
        "outputId": "1d6b5309-a8e0-46a5-8a53-c365bc04ad69"
      },
      "source": [
        "# Put your test code here\n",
        "\n",
        "round(1598374985.1, -2)"
      ],
      "execution_count": null,
      "outputs": [
        {
          "output_type": "execute_result",
          "data": {
            "text/plain": [
              "1598375000.0"
            ]
          },
          "metadata": {
            "tags": []
          },
          "execution_count": 15
        }
      ]
    },
    {
      "cell_type": "markdown",
      "metadata": {
        "_uuid": "36e83961f42db06503a116a777185ac25b759788",
        "id": "7g5lnSRJsZ8X"
      },
      "source": [
        "## 3. More Function\n",
        "\n",
        "Giving the problem of candy-sharing friends Alice, Bob and Carol tried to split candies evenly. For the sake of their friendship, any candies left over would be smashed. For example, if they collectively bring home 91 candies, they will take 30 each and smash 1.\n",
        "\n",
        "Below is a simple function that will calculate the number of candies to smash for *any* number of total candies.\n",
        "\n",
        "**Your task**: \n",
        "- Modify it so that it optionally takes a second argument representing the number of friends the candies are being split between. If no second argument is provided, it should assume 3 friends, as before.\n",
        "- Update the docstring to reflect this new behaviour."
      ]
    },
    {
      "cell_type": "code",
      "metadata": {
        "_uuid": "2bbed479de86e23c7a812c7ae0782735fd764195",
        "id": "ASQ2tf-fsZ8Z",
        "colab": {
          "base_uri": "https://localhost:8080/"
        },
        "outputId": "56247bb8-79ab-443e-bb57-b1ea618c2cf9"
      },
      "source": [
        "def to_smash(total_candies, num_friends=3):\n",
        "    \"\"\"Return the number of leftover candies that must be smashed after distributing\n",
        "    the given number of candies evenly between 3 friends.\n",
        "    \n",
        "    >>> to_smash(91)\n",
        "    1\n",
        "    \"\"\"\n",
        "\n",
        "    return total_candies % num_friends\n",
        "\n",
        "to_smash(3046,4)"
      ],
      "execution_count": null,
      "outputs": [
        {
          "output_type": "execute_result",
          "data": {
            "text/plain": [
              "2"
            ]
          },
          "metadata": {
            "tags": []
          },
          "execution_count": 26
        }
      ]
    },
    {
      "cell_type": "markdown",
      "metadata": {
        "_uuid": "ec7d50eeeb167b91ecae5c682d65b9e1fc5fcf13",
        "id": "iNTD5V5csZ8a"
      },
      "source": [
        "## 4. Taste some Errors\n",
        "\n",
        "It may not be fun, but reading and understanding **error messages** will help you improve solving problem skills.\n",
        "\n",
        "Each code cell below contains some commented-out buggy code. For each cell...\n",
        "\n",
        "1. Read the code and predict what you think will happen when it's run.\n",
        "2. Then uncomment the code and run it to see what happens. *(**Tips**: In the kernel editor, you can highlight several lines and press `ctrl`+`/` to toggle commenting.)*\n",
        "3. Fix the code (so that it accomplishes its intended purpose without throwing an exception)\n",
        "\n",
        "<!-- TODO: should this be autochecked? Delta is probably pretty small. -->"
      ]
    },
    {
      "cell_type": "code",
      "metadata": {
        "_uuid": "dd3955780a593bff78face0dc46093f4deb533ab",
        "id": "8vpqEY9HsZ8b",
        "colab": {
          "base_uri": "https://localhost:8080/"
        },
        "outputId": "ade15ee0-0c65-4fde-e9fe-5eea0113904b"
      },
      "source": [
        "round_to_two_places(9.9999)"
      ],
      "execution_count": null,
      "outputs": [
        {
          "output_type": "execute_result",
          "data": {
            "text/plain": [
              "10.0"
            ]
          },
          "metadata": {
            "tags": []
          },
          "execution_count": 16
        }
      ]
    },
    {
      "cell_type": "code",
      "metadata": {
        "_uuid": "2a89511b6b1bd89b05998b705bf3db5088841a43",
        "id": "dedUq2m2sZ8c"
      },
      "source": [
        "x = -10\n",
        "y = 5\n",
        "# Which of the two variables above has the smallest absolute value?\n",
        "smallest_abs = min(abs(x), abs(y))"
      ],
      "execution_count": null,
      "outputs": []
    },
    {
      "cell_type": "code",
      "metadata": {
        "_uuid": "6ae2b82d1003c4bc7fe4d503e7d9ddeca3f95b1e",
        "id": "r6uWzii8sZ8d",
        "colab": {
          "base_uri": "https://localhost:8080/"
        },
        "outputId": "8c35b5cc-8750-43ca-e964-9cd3bad210e3"
      },
      "source": [
        "def f(x):\n",
        "    \n",
        "  return abs(x)\n",
        "\n",
        "print(f(5))"
      ],
      "execution_count": null,
      "outputs": [
        {
          "output_type": "stream",
          "text": [
            "5\n"
          ],
          "name": "stdout"
        }
      ]
    },
    {
      "cell_type": "markdown",
      "metadata": {
        "_uuid": "dc94a365a7d7f7f974348e9e5ec597a2d5036c6b",
        "id": "2yqp_DBssZ8e"
      },
      "source": [
        "## 5. More and more Functions\n",
        "\n",
        "For this question, we'll be using two functions imported from Python's `time` module.\n",
        "\n",
        "### Time Function\n",
        "The [time](https://docs.python.org/3/library/time.html#time.time) function returns the number of seconds that have passed since the Epoch (aka [Unix time](https://en.wikipedia.org/wiki/Unix_time)). \n",
        "\n",
        "<!-- We've provided a function called `seconds_since_epoch` which returns the number of seconds that have passed since the Epoch (aka [Unix time](https://en.wikipedia.org/wiki/Unix_time)). -->\n",
        "\n",
        "Try it out below. Each time you run it, you should get a slightly larger number."
      ]
    },
    {
      "cell_type": "code",
      "metadata": {
        "_uuid": "6c219975b461ccac77cdb0cb8dd3527c0cef52fd",
        "id": "uXgBcYLfsZ8f",
        "colab": {
          "base_uri": "https://localhost:8080/"
        },
        "outputId": "4d4beed2-9e3a-4a5f-90d4-e4220123c433"
      },
      "source": [
        "# Importing the function 'time' from the module of the same name. \n",
        "# (We'll discuss imports in more depth later)\n",
        "from time import time\n",
        "t = time()\n",
        "print(t, \"seconds since the Epoch\")"
      ],
      "execution_count": null,
      "outputs": [
        {
          "output_type": "stream",
          "text": [
            "1621700916.0513592 seconds since the Epoch\n"
          ],
          "name": "stdout"
        }
      ]
    },
    {
      "cell_type": "markdown",
      "metadata": {
        "_uuid": "5b75363a5c9d514c41cc10f263083f16b078c81c",
        "id": "1b7HFmSxsZ8g"
      },
      "source": [
        "### Sleep Function\n",
        "We'll also be using a function called [sleep](https://docs.python.org/3/library/time.html#time.sleep), which makes us wait some number of seconds while it does nothing particular. (Sounds useful, right?)\n",
        "\n",
        "You can see it in action by running the cell below:"
      ]
    },
    {
      "cell_type": "code",
      "metadata": {
        "_uuid": "bc124bfa7c9ac5510fae42cb4c241768ab241502",
        "id": "Cuqeipo4sZ8h",
        "colab": {
          "base_uri": "https://localhost:8080/"
        },
        "outputId": "9da60988-195d-43b6-ca33-8185bc5d0f95"
      },
      "source": [
        "from time import sleep\n",
        "duration = 5\n",
        "print(\"Getting sleepy. See you in\", duration, \"seconds\")\n",
        "sleep(duration)\n",
        "print(\"I'm back. What did I miss?\")"
      ],
      "execution_count": null,
      "outputs": [
        {
          "output_type": "stream",
          "text": [
            "Getting sleepy. See you in 5 seconds\n",
            "I'm back. What did I miss?\n"
          ],
          "name": "stdout"
        }
      ]
    },
    {
      "cell_type": "markdown",
      "metadata": {
        "_uuid": "c4e97a4e8267f2c210ada2949b084fa8c9742c9d",
        "id": "2hYJDUiksZ8i"
      },
      "source": [
        "### Your Own Function\n",
        "With the help of these functions, complete the function **`time_call`** below according to its docstring.\n",
        "\n",
        "<!-- (The sleep function will be useful for testing here since we have a pretty good idea of what something like `time_call(sleep, 1)` should return.) -->"
      ]
    },
    {
      "cell_type": "code",
      "metadata": {
        "_uuid": "100e5013aea45c09e249bf1476d103b1f98daba4",
        "id": "DUJn6wo_sZ8j",
        "colab": {
          "base_uri": "https://localhost:8080/"
        },
        "outputId": "98ac2f8f-0bcb-4f64-e71e-c10ed84e74d9"
      },
      "source": [
        "def time_call(fn, arg):\n",
        "    \"\"\"Return the amount of time the given function takes (in seconds) when called with the given argument.\n",
        "    \"\"\"\n",
        "    t0 = time()\n",
        "    fn(arg)\n",
        "    t1 = time()\n",
        "    return t1 - t0\n",
        "\n",
        "    pass\n",
        "\n",
        "time_call(round, 3)"
      ],
      "execution_count": null,
      "outputs": [
        {
          "output_type": "execute_result",
          "data": {
            "text/plain": [
              "2.384185791015625e-06"
            ]
          },
          "metadata": {
            "tags": []
          },
          "execution_count": 31
        }
      ]
    },
    {
      "cell_type": "markdown",
      "metadata": {
        "_uuid": "45ba3ad3926ba61d0c9febfc129d8118b9f01518",
        "id": "55c8e-hlsZ8j"
      },
      "source": [
        "How would you verify that `time_call` is working correctly? Think about it..."
      ]
    },
    {
      "cell_type": "markdown",
      "metadata": {
        "_uuid": "472d1778e82e6b7300823a7934ecb55a35a1bb42",
        "id": "7Y228AY5sZ8k"
      },
      "source": [
        "## 6. 🌶️ Reuse your Function\n",
        "\n",
        "*Note: this question depends on a working solution to the previous question.*\n",
        "\n",
        "Complete the function below according to its docstring."
      ]
    },
    {
      "cell_type": "code",
      "metadata": {
        "_uuid": "21abdac6bcd885ef4916cf56a360aee37bce2479",
        "id": "FW6jwl4osZ8m",
        "colab": {
          "base_uri": "https://localhost:8080/"
        },
        "outputId": "d7a8ffd7-6bbd-4926-bfee-59c8931cc871"
      },
      "source": [
        "def slowest_call(fn, arg1, arg2, arg3):\n",
        "    \"\"\"Return the amount of time taken by the slowest of the following function\n",
        "    calls: fn(arg1), fn(arg2), fn(arg3)\n",
        "    \n",
        "    \"\"\"\n",
        "    duration1 = time_call(fn, arg1)\n",
        "    duration2 = time_call(fn, arg2)\n",
        "    duration3 = time_call(fn, arg3)\n",
        "    \n",
        "    return max(duration1, duration2, duration3)\n",
        "    pass\n",
        "\n",
        "slowest_call(round, 1234567, 2,35)"
      ],
      "execution_count": null,
      "outputs": [
        {
          "output_type": "execute_result",
          "data": {
            "text/plain": [
              "2.1457672119140625e-06"
            ]
          },
          "metadata": {
            "tags": []
          },
          "execution_count": 33
        }
      ]
    },
    {
      "cell_type": "markdown",
      "metadata": {
        "_uuid": "d1c0353110c1b9578af9bbc20e4a9e0f6717a34e",
        "id": "K4UP2XHVsZ8n"
      },
      "source": [
        "# Keep Going"
      ]
    }
  ]
}